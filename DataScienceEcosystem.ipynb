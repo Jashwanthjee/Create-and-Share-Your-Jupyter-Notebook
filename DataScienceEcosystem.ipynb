{
 "cells": [
  {
   "cell_type": "markdown",
   "id": "a59b7fe9",
   "metadata": {},
   "source": [
    "# Data Science Tools and Ecosystem"
   ]
  },
  {
   "cell_type": "markdown",
   "id": "1f42206c",
   "metadata": {},
   "source": [
    "In this notebook, Data Science Tools and Ecosystem are summarized."
   ]
  },
  {
   "cell_type": "markdown",
   "id": "e3f1bf1d",
   "metadata": {},
   "source": [
    "Some of the popular languages that Data Scientists use are:\n",
    "<br>\n",
    "1.Python.\n",
    "<br>\n",
    "2.R.\n",
    "<br>\n",
    "3.SQL.\n",
    "<br>\n",
    "4.Scala.\n"
   ]
  },
  {
   "cell_type": "markdown",
   "id": "523f7a41",
   "metadata": {},
   "source": [
    "Some of the commonly used libraries used by Data Scientists include:\n",
    "<br>\n",
    "1.NumPy.\n",
    "<br>\n",
    "2.Pandas.\n",
    "<br>\n",
    "3.Matplotlib.\n",
    "<br>\n",
    "4.TensorFlow."
   ]
  },
  {
   "cell_type": "markdown",
   "id": "b55a6227",
   "metadata": {},
   "source": [
    "### Data Science Tools \n",
    "|Data Science Tools      |\n",
    "|:---:                   |\n",
    "|Excel                   |\n",
    "|Hadoop                  |\n",
    "|Tableau                 |"
   ]
  },
  {
   "cell_type": "markdown",
   "id": "cc98eecf",
   "metadata": {},
   "source": [
    "### Below are a few examples of evaluating arithmetic expressions in Python"
   ]
  },
  {
   "cell_type": "code",
   "execution_count": 2,
   "id": "c87326e7",
   "metadata": {},
   "outputs": [
    {
     "data": {
      "text/plain": [
       "17"
      ]
     },
     "execution_count": 2,
     "metadata": {},
     "output_type": "execute_result"
    }
   ],
   "source": [
    "#his a simple arithmetic expression to mutiply then add integers\n",
    "(3*4)+5"
   ]
  },
  {
   "cell_type": "code",
   "execution_count": 3,
   "id": "3291cb54",
   "metadata": {},
   "outputs": [
    {
     "data": {
      "text/plain": [
       "3.3333333333333335"
      ]
     },
     "execution_count": 3,
     "metadata": {},
     "output_type": "execute_result"
    }
   ],
   "source": [
    "#This will convert 200 minutes to hours by diving by 60\n",
    "200/60"
   ]
  },
  {
   "cell_type": "markdown",
   "id": "23a61bd0",
   "metadata": {},
   "source": [
    "**Objectives:**\n",
    "- Python.\n",
    "<br>\n",
    "- R.\n",
    "<br>\n",
    "- SQL.\n",
    "<br>\n",
    "- Scala.\n"
   ]
  },
  {
   "cell_type": "markdown",
   "id": "6ecc6fe1",
   "metadata": {},
   "source": [
    "## Author\n",
    "Bussari Jashwanth Jee"
   ]
  },
  {
   "cell_type": "code",
   "execution_count": null,
   "id": "b8b69efc",
   "metadata": {},
   "outputs": [],
   "source": []
  }
 ],
 "metadata": {
  "kernelspec": {
   "display_name": "Python 3 (ipykernel)",
   "language": "python",
   "name": "python3"
  },
  "language_info": {
   "codemirror_mode": {
    "name": "ipython",
    "version": 3
   },
   "file_extension": ".py",
   "mimetype": "text/x-python",
   "name": "python",
   "nbconvert_exporter": "python",
   "pygments_lexer": "ipython3",
   "version": "3.9.16"
  }
 },
 "nbformat": 4,
 "nbformat_minor": 5
}
